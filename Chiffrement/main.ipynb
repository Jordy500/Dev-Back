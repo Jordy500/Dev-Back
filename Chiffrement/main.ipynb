{
 "cells": [
  {
   "cell_type": "code",
   "execution_count": 13,
   "metadata": {},
   "outputs": [
    {
     "name": "stdout",
     "output_type": "stream",
     "text": [
      "coucou\n",
      "ô7dô7d\n"
     ]
    }
   ],
   "source": [
    "import string\n",
    "\n",
    "\n",
    "def cesar_cipher(message, key):\n",
    "\talphabet = string.printable + \"éèêàôëùïü\"\n",
    "\tcrypted_message = \"\"\n",
    "\tfor char in message:\n",
    "\t\t\"\"\"\n",
    "\t\ton va chiffrer le caractère \n",
    "\t\t\t1- trouver la positon du carac dans l'alphabet\n",
    "\t\t\t2- y rajouter la clef à la positon du carac dans l'alphabet\n",
    "\t\t\t3- reccupérer le caractère chiffré\n",
    "\t\ton va stocker le caractère chiffrer\n",
    "\t\t\"\"\"\n",
    "\t\tindex_carac_in_printable = alphabet.index(char)\n",
    "\t\tindex_crypted_char = (index_carac_in_printable + key) % len(alphabet)\n",
    "\t\tcryted_char = alphabet[index_crypted_char]\n",
    "\n",
    "\t\tcrypted_message += cryted_char\n",
    "\t\n",
    "\treturn crypted_message\n",
    "\n",
    "\n",
    "def cesar_uncipher(crypted_message, key):\n",
    "\treturn cesar_cipher(crypted_message, -key)\n",
    "\n",
    "def bruteforce_cipher(crypted_message):\n",
    "    return cesar_cipher(crypted_message, min(range(26), key=lambda x: sum(c1 != c2 for c1, c2 in zip(crypted_message, cesar_cipher(crypted_message, x)))))\n",
    "\n",
    "print(bruteforce_cipher(\"coucou\"))\n",
    "print(cesar_cipher(\"coucou\", 528))\n"
   ]
  },
  {
   "cell_type": "code",
   "execution_count": 22,
   "metadata": {},
   "outputs": [
    {
     "ename": "ValueError",
     "evalue": "substring not found",
     "output_type": "error",
     "traceback": [
      "\u001b[1;31m---------------------------------------------------------------------------\u001b[0m",
      "\u001b[1;31mValueError\u001b[0m                                Traceback (most recent call last)",
      "Cell \u001b[1;32mIn[22], line 8\u001b[0m\n\u001b[0;32m      6\u001b[0m message \u001b[38;5;241m=\u001b[39m \u001b[38;5;124m\"\u001b[39m\u001b[38;5;124mje me debrouillé\u001b[39m\u001b[38;5;124m\"\u001b[39m\n\u001b[0;32m      7\u001b[0m cle \u001b[38;5;241m=\u001b[39m \u001b[38;5;124m\"\u001b[39m\u001b[38;5;124mabc\u001b[39m\u001b[38;5;124m\"\u001b[39m\n\u001b[1;32m----> 8\u001b[0m \u001b[38;5;28mprint\u001b[39m(\u001b[43mchiffre_vigenere\u001b[49m\u001b[43m(\u001b[49m\u001b[43mmessage\u001b[49m\u001b[43m,\u001b[49m\u001b[43m \u001b[49m\u001b[43mcle\u001b[49m\u001b[43m)\u001b[49m)\n",
      "Cell \u001b[1;32mIn[22], line 4\u001b[0m, in \u001b[0;36mchiffre_vigenere\u001b[1;34m(message, key)\u001b[0m\n\u001b[0;32m      2\u001b[0m alphabet \u001b[38;5;241m=\u001b[39m string\u001b[38;5;241m.\u001b[39mascii_lowercase \u001b[38;5;241m+\u001b[39m \u001b[38;5;124m\"\u001b[39m\u001b[38;5;124méèêàôëùïü\u001b[39m\u001b[38;5;124m\"\u001b[39m\n\u001b[0;32m      3\u001b[0m vigenere_key \u001b[38;5;241m=\u001b[39m [\u001b[38;5;28mord\u001b[39m(k) \u001b[38;5;241m-\u001b[39m \u001b[38;5;28mord\u001b[39m(\u001b[38;5;124m'\u001b[39m\u001b[38;5;124ma\u001b[39m\u001b[38;5;124m'\u001b[39m) \u001b[38;5;28;01mfor\u001b[39;00m k \u001b[38;5;129;01min\u001b[39;00m key\u001b[38;5;241m.\u001b[39mlower()]\n\u001b[1;32m----> 4\u001b[0m \u001b[38;5;28;01mreturn\u001b[39;00m \u001b[38;5;124;43m'\u001b[39;49m\u001b[38;5;124;43m'\u001b[39;49m\u001b[38;5;241;43m.\u001b[39;49m\u001b[43mjoin\u001b[49m\u001b[43m(\u001b[49m\u001b[43malphabet\u001b[49m\u001b[43m[\u001b[49m\u001b[43m(\u001b[49m\u001b[43malphabet\u001b[49m\u001b[38;5;241;43m.\u001b[39;49m\u001b[43mindex\u001b[49m\u001b[43m(\u001b[49m\u001b[43mchar\u001b[49m\u001b[38;5;241;43m.\u001b[39;49m\u001b[43mlower\u001b[49m\u001b[43m(\u001b[49m\u001b[43m)\u001b[49m\u001b[43m)\u001b[49m\u001b[43m \u001b[49m\u001b[38;5;241;43m+\u001b[39;49m\u001b[43m \u001b[49m\u001b[43mvigenere_key\u001b[49m\u001b[43m[\u001b[49m\u001b[43mi\u001b[49m\u001b[43m \u001b[49m\u001b[38;5;241;43m%\u001b[39;49m\u001b[43m \u001b[49m\u001b[38;5;28;43mlen\u001b[39;49m\u001b[43m(\u001b[49m\u001b[43mvigenere_key\u001b[49m\u001b[43m)\u001b[49m\u001b[43m]\u001b[49m\u001b[43m)\u001b[49m\u001b[43m \u001b[49m\u001b[38;5;241;43m%\u001b[39;49m\u001b[43m \u001b[49m\u001b[38;5;28;43mlen\u001b[39;49m\u001b[43m(\u001b[49m\u001b[43malphabet\u001b[49m\u001b[43m)\u001b[49m\u001b[43m]\u001b[49m\u001b[43m \u001b[49m\u001b[38;5;28;43;01mfor\u001b[39;49;00m\u001b[43m \u001b[49m\u001b[43mi\u001b[49m\u001b[43m,\u001b[49m\u001b[43m \u001b[49m\u001b[43mchar\u001b[49m\u001b[43m \u001b[49m\u001b[38;5;129;43;01min\u001b[39;49;00m\u001b[43m \u001b[49m\u001b[38;5;28;43menumerate\u001b[39;49m\u001b[43m(\u001b[49m\u001b[43mmessage\u001b[49m\u001b[43m)\u001b[49m\u001b[43m)\u001b[49m\n",
      "Cell \u001b[1;32mIn[22], line 4\u001b[0m, in \u001b[0;36m<genexpr>\u001b[1;34m(.0)\u001b[0m\n\u001b[0;32m      2\u001b[0m alphabet \u001b[38;5;241m=\u001b[39m string\u001b[38;5;241m.\u001b[39mascii_lowercase \u001b[38;5;241m+\u001b[39m \u001b[38;5;124m\"\u001b[39m\u001b[38;5;124méèêàôëùïü\u001b[39m\u001b[38;5;124m\"\u001b[39m\n\u001b[0;32m      3\u001b[0m vigenere_key \u001b[38;5;241m=\u001b[39m [\u001b[38;5;28mord\u001b[39m(k) \u001b[38;5;241m-\u001b[39m \u001b[38;5;28mord\u001b[39m(\u001b[38;5;124m'\u001b[39m\u001b[38;5;124ma\u001b[39m\u001b[38;5;124m'\u001b[39m) \u001b[38;5;28;01mfor\u001b[39;00m k \u001b[38;5;129;01min\u001b[39;00m key\u001b[38;5;241m.\u001b[39mlower()]\n\u001b[1;32m----> 4\u001b[0m \u001b[38;5;28;01mreturn\u001b[39;00m \u001b[38;5;124m'\u001b[39m\u001b[38;5;124m'\u001b[39m\u001b[38;5;241m.\u001b[39mjoin(alphabet[(\u001b[43malphabet\u001b[49m\u001b[38;5;241;43m.\u001b[39;49m\u001b[43mindex\u001b[49m\u001b[43m(\u001b[49m\u001b[43mchar\u001b[49m\u001b[38;5;241;43m.\u001b[39;49m\u001b[43mlower\u001b[49m\u001b[43m(\u001b[49m\u001b[43m)\u001b[49m\u001b[43m)\u001b[49m \u001b[38;5;241m+\u001b[39m vigenere_key[i \u001b[38;5;241m%\u001b[39m \u001b[38;5;28mlen\u001b[39m(vigenere_key)]) \u001b[38;5;241m%\u001b[39m \u001b[38;5;28mlen\u001b[39m(alphabet)] \u001b[38;5;28;01mfor\u001b[39;00m i, char \u001b[38;5;129;01min\u001b[39;00m \u001b[38;5;28menumerate\u001b[39m(message))\n",
      "\u001b[1;31mValueError\u001b[0m: substring not found"
     ]
    }
   ],
   "source": [
    "def chiffre_vigenere(message, key):\n",
    "    alphabet = string.ascii_lowercase + \"éèêàôëùïü\"\n",
    "    vigenere_key = [ord(k) - ord('a') for k in key.lower()]\n",
    "    return ''.join(alphabet[(alphabet.index(char.lower()) + vigenere_key[i % len(vigenere_key)]) % len(alphabet)] for i, char in enumerate(message))\n",
    "\n",
    "message = \"je me debrouillé\"\n",
    "cle = \"abc\"\n",
    "print(chiffre_vigenere(message, cle))"
   ]
  },
  {
   "cell_type": "code",
   "execution_count": 13,
   "metadata": {},
   "outputs": [
    {
     "name": "stdout",
     "output_type": "stream",
     "text": [
      "[11, 9, 7]\n"
     ]
    }
   ],
   "source": [
    "list_numbers = [7, 8, 9, 28, 11, 33,]\n",
    "\n",
    "print(list_numbers[4 :: -2])"
   ]
  }
 ],
 "metadata": {
  "kernelspec": {
   "display_name": "Python 3",
   "language": "python",
   "name": "python3"
  },
  "language_info": {
   "codemirror_mode": {
    "name": "ipython",
    "version": 3
   },
   "file_extension": ".py",
   "mimetype": "text/x-python",
   "name": "python",
   "nbconvert_exporter": "python",
   "pygments_lexer": "ipython3",
   "version": "3.13.0"
  }
 },
 "nbformat": 4,
 "nbformat_minor": 2
}
