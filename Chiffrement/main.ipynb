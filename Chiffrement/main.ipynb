{
 "cells": [
  {
   "cell_type": "code",
   "execution_count": null,
   "metadata": {},
   "outputs": [],
   "source": [
    "def chiffre_cesar(texte, decalage):\n",
    "    alphabet_minuscule = string.ascii_lowercase\n",
    "    \n",
    "    # Convertir le texte en minuscule\n",
    "    texte_minuscule = texte.lower()\n",
    "    \n",
    "    # Initialiser une liste vide pour stocker le texte chiffré\n",
    "    texte_chiffe = []\n",
    "    \n",
    "    # Parcourir chaque caractère du texte\n",
    "    for char in texte_minuscule:\n",
    "        # Vérifier si le caractère est dans l'alphabet\n",
    "        if char in alphabet_minuscule:\n",
    "            # Trouver l'index de la lettre dans l'alphabet\n",
    "            index = alphabet_minuscule.index(char)\n",
    "            \n",
    "            # Appliquer le décalage avec modulo pour gérer le cycle\n",
    "            nouveau_index = (index + decalage) % len(alphabet_minuscule)\n",
    "            \n",
    "            # Ajouter la nouvelle lettre au texte chiffré\n",
    "            texte_chiffe.append(alphabet_minuscule[nouveau_index])\n",
    "        else:\n",
    "            # Si c'est pas une lettre minuscule, ajouter le caractère tel quel\n",
    "            texte_chiffe.append(char)\n",
    "    \n",
    "    # Retourner le texte chiffré en tant que chaîne\n",
    "    return ''.join(texte_chiffe)"
   ]
  },
  {
   "cell_type": "code",
   "execution_count": 13,
   "metadata": {},
   "outputs": [
    {
     "name": "stdout",
     "output_type": "stream",
     "text": [
      "[11, 9, 7]\n"
     ]
    }
   ],
   "source": [
    "list_numbers = [7, 8, 9, 28, 11, 33,]\n",
    "\n",
    "print(list_numbers[4 :: -2])"
   ]
  }
 ],
 "metadata": {
  "kernelspec": {
   "display_name": "Python 3",
   "language": "python",
   "name": "python3"
  },
  "language_info": {
   "codemirror_mode": {
    "name": "ipython",
    "version": 3
   },
   "file_extension": ".py",
   "mimetype": "text/x-python",
   "name": "python",
   "nbconvert_exporter": "python",
   "pygments_lexer": "ipython3",
   "version": "3.13.0"
  }
 },
 "nbformat": 4,
 "nbformat_minor": 2
}
